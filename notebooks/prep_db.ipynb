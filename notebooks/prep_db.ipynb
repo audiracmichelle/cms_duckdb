{
 "cells": [
  {
   "attachments": {},
   "cell_type": "markdown",
   "metadata": {},
   "source": [
    "# Demo CMS + DuckDB"
   ]
  },
  {
   "cell_type": "code",
   "execution_count": 1,
   "metadata": {},
   "outputs": [],
   "source": [
    "import pandas as pd \n",
    "import numpy as np\n",
    "import duckdb"
   ]
  },
  {
   "cell_type": "markdown",
   "metadata": {},
   "source": [
    "## Start connection to DuckDB"
   ]
  },
  {
   "cell_type": "code",
   "execution_count": 2,
   "metadata": {},
   "outputs": [],
   "source": [
    "conn = duckdb.connect()"
   ]
  },
  {
   "attachments": {},
   "cell_type": "markdown",
   "metadata": {},
   "source": [
    "## Design DB + parquet storage"
   ]
  },
  {
   "attachments": {},
   "cell_type": "markdown",
   "metadata": {},
   "source": [
    "<img src=\"diagram.png\" width=\"500\">"
   ]
  },
  {
   "cell_type": "code",
   "execution_count": 3,
   "metadata": {},
   "outputs": [],
   "source": [
    "conn.sql(\"CREATE TABLE mbsf(DESYNPUF_ID VARCHAR(20) PRIMARY KEY, BENE_BIRTH_DT DATE, BENE_SEX_IDENT_CD INT, BENE_RACE_CD INT)\")\n",
    "conn.sql(\"CREATE TABLE enroll(DESYNPUF_ID VARCHAR(20), YEAR INT, PRIMARY KEY (DESYNPUF_ID, YEAR), SP_STATE_CODE INT, BENE_HMO_CVRAGE_TOT_MONS INT)\")\n",
    "conn.sql(\"CREATE TABLE hosp(CLM_ID VARCHAR(20) PRIMARY KEY, DESYNPUF_ID VARCHAR(20), CLM_ADMSN_DT DATE)\")"
   ]
  },
  {
   "attachments": {},
   "cell_type": "markdown",
   "metadata": {},
   "source": [
    "## Queries"
   ]
  },
  {
   "attachments": {},
   "cell_type": "markdown",
   "metadata": {},
   "source": [
    "1. Prepare beneficiaries table"
   ]
  },
  {
   "cell_type": "code",
   "execution_count": 4,
   "metadata": {},
   "outputs": [],
   "source": [
    "mbsf = conn.execute(\"\"\"\n",
    "WITH bene AS (\n",
    "    SELECT\n",
    "        DESYNPUF_ID,\n",
    "        strptime(BENE_BIRTH_DT, '%Y%m%d') as BENE_BIRTH_DT,\n",
    "        strptime(BENE_DEATH_DT, '%Y%m%d') as BENE_DEATH_DT, \n",
    "        BENE_SEX_IDENT_CD, \n",
    "        BENE_RACE_CD\n",
    "    FROM '../datapond/csv/mbsf/*.csv')\n",
    "SELECT \n",
    "    DESYNPUF_ID,\n",
    "    MIN(BENE_BIRTH_DT) as BENE_BIRTH_DT,\n",
    "    BENE_SEX_IDENT_CD, \n",
    "    BENE_RACE_CD\n",
    "FROM\n",
    "    bene\n",
    "GROUP BY\n",
    "    DESYNPUF_ID, BENE_SEX_IDENT_CD, BENE_RACE_CD\n",
    "\"\"\").fetch_df()"
   ]
  },
  {
   "attachments": {},
   "cell_type": "markdown",
   "metadata": {},
   "source": [
    "2. Prepare enrollments table"
   ]
  },
  {
   "cell_type": "code",
   "execution_count": 5,
   "metadata": {},
   "outputs": [],
   "source": [
    "enroll = conn.execute(\"\"\"\n",
    "SELECT DESYNPUF_ID, 2008 AS year, SP_STATE_CODE, BENE_HMO_CVRAGE_TOT_MONS FROM '../datapond/csv/mbsf/DE1_0_2008_Beneficiary_Summary_File_*.csv'\n",
    "UNION ALL\n",
    "SELECT DESYNPUF_ID, 2009 AS year, SP_STATE_CODE, BENE_HMO_CVRAGE_TOT_MONS FROM '../datapond/csv/mbsf/DE1_0_2009_Beneficiary_Summary_File_*.csv'\n",
    "UNION ALL\n",
    "SELECT DESYNPUF_ID, 2010 AS year, SP_STATE_CODE, BENE_HMO_CVRAGE_TOT_MONS FROM '../datapond/csv/mbsf/DE1_0_2010_Beneficiary_Summary_File_*.csv'\n",
    "\"\"\").fetch_df()"
   ]
  },
  {
   "cell_type": "markdown",
   "metadata": {},
   "source": [
    "3. Prepare hospitalizations table"
   ]
  },
  {
   "cell_type": "code",
   "execution_count": 15,
   "metadata": {},
   "outputs": [],
   "source": [
    "hosp = conn.execute(\"\"\"\n",
    "WITH adm AS (\n",
    "    SELECT DISTINCT\n",
    "    CLM_ID,\n",
    "    DESYNPUF_ID,\n",
    "    strptime(CLM_ADMSN_DT, '%Y%m%d') as CLM_ADMSN_DT\n",
    "FROM '../datapond/csv/inpatient/DE1_0_2008_to_2010_Inpatient_Claims_*.csv'\n",
    ")\n",
    "SELECT \n",
    "    CLM_ID,\n",
    "    ANY_VALUE(DESYNPUF_ID) AS DESYNPUF_ID,\n",
    "    MIN(CLM_ADMSN_DT) as CLM_ADMSN_DT\n",
    "FROM\n",
    "    adm\n",
    "GROUP BY\n",
    "    CLM_ID\n",
    "\"\"\").fetchdf()"
   ]
  },
  {
   "cell_type": "code",
   "execution_count": 7,
   "metadata": {},
   "outputs": [],
   "source": [
    "mbsf.to_parquet('../datapond/mbsf.parquet')\n",
    "enroll.to_parquet('../datapond/enroll.parquet')\n",
    "hosp.to_parquet('../datapond/hosp.parquet')"
   ]
  },
  {
   "cell_type": "code",
   "execution_count": null,
   "metadata": {},
   "outputs": [],
   "source": []
  }
 ],
 "metadata": {
  "kernelspec": {
   "display_name": "cms_duckdb",
   "language": "python",
   "name": "python3"
  },
  "language_info": {
   "codemirror_mode": {
    "name": "ipython",
    "version": 3
   },
   "file_extension": ".py",
   "mimetype": "text/x-python",
   "name": "python",
   "nbconvert_exporter": "python",
   "pygments_lexer": "ipython3",
   "version": "3.10.10"
  },
  "orig_nbformat": 4
 },
 "nbformat": 4,
 "nbformat_minor": 2
}
