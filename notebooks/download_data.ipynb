{
 "cells": [
  {
   "attachments": {},
   "cell_type": "markdown",
   "metadata": {},
   "source": [
    "# Demo CMS + DuckDB"
   ]
  },
  {
   "cell_type": "code",
   "execution_count": 1,
   "metadata": {},
   "outputs": [],
   "source": [
    "import pandas as pd \n",
    "import numpy as np"
   ]
  },
  {
   "attachments": {},
   "cell_type": "markdown",
   "metadata": {},
   "source": [
    "## Download CMS data"
   ]
  },
  {
   "cell_type": "code",
   "execution_count": 2,
   "metadata": {},
   "outputs": [],
   "source": [
    "cms_url = \"https://www.cms.gov/Research-Statistics-Data-and-Systems/Downloadable-Public-Use-Files/SynPUFs/Downloads/\"\n",
    "mbsf_2008_prefix = \"DE1_0_2008_Beneficiary_Summary_File_\"\n",
    "mbsf_2009_prefix = \"DE1_0_2009_Beneficiary_Summary_File_\"\n",
    "mbsf_2010_prefix = \"DE1_0_2010_Beneficiary_Summary_File_\"\n",
    "inpatient_prefix = \"DE1_0_2008_to_2010_Inpatient_Claims_\""
   ]
  },
  {
   "attachments": {},
   "cell_type": "markdown",
   "metadata": {},
   "source": [
    "<img src=\"datasets.png\" width=\"500\">"
   ]
  },
  {
   "cell_type": "code",
   "execution_count": 3,
   "metadata": {},
   "outputs": [],
   "source": [
    "import urllib.request\n",
    "import zipfile\n",
    "from io import BytesIO\n",
    "\n",
    "def download_and_unzip(url, extract_to='.'):\n",
    "    # Download the zip file\n",
    "    response = urllib.request.urlopen(url)\n",
    "    zip_content = response.read()\n",
    "    \n",
    "    # Unzip the file in memory\n",
    "    with zipfile.ZipFile(BytesIO(zip_content)) as zf:\n",
    "        zf.extractall(path=extract_to)"
   ]
  },
  {
   "attachments": {},
   "cell_type": "markdown",
   "metadata": {},
   "source": [
    "There is an error in the url path for 2010 mbsf sample 10 data"
   ]
  },
  {
   "cell_type": "code",
   "execution_count": 4,
   "metadata": {},
   "outputs": [],
   "source": [
    "partition_id_list = [f\"Sample_{i}\" for i in list(range(1,21))]\n",
    "\n",
    "for partition_id in partition_id_list:\n",
    "    #download mbsf data\n",
    "    mbsf_2008_url = cms_url + mbsf_2008_prefix + partition_id + \".zip\"\n",
    "    download_and_unzip(mbsf_2008_url, extract_to=\"../datapond/csv/mbsf/\")\n",
    "    \n",
    "    mbsf_2009_url = cms_url + mbsf_2009_prefix + partition_id + \".zip\"\n",
    "    download_and_unzip(mbsf_2009_url, extract_to=\"../datapond/csv/mbsf/\")\n",
    "    \n",
    "    mbsf_2010_url = cms_url + mbsf_2010_prefix + partition_id + \".zip\"\n",
    "    if partition_id != 'Sample_1': #there is an error in source data\n",
    "        download_and_unzip(mbsf_2010_url, extract_to=\"../datapond/csv/mbsf/\")\n",
    "    \n",
    "    #download inpatient data \n",
    "    inpatient_url = cms_url + inpatient_prefix + partition_id + \".zip\"\n",
    "    download_and_unzip(inpatient_url, extract_to=\"../datapond/csv/inpatient/\")\n"
   ]
  },
  {
   "attachments": {},
   "cell_type": "markdown",
   "metadata": {},
   "source": [
    "The data is stored in `../datapond/csv/`"
   ]
  }
 ],
 "metadata": {
  "kernelspec": {
   "display_name": "cms_duckdb",
   "language": "python",
   "name": "python3"
  },
  "language_info": {
   "codemirror_mode": {
    "name": "ipython",
    "version": 3
   },
   "file_extension": ".py",
   "mimetype": "text/x-python",
   "name": "python",
   "nbconvert_exporter": "python",
   "pygments_lexer": "ipython3",
   "version": "3.10.10"
  },
  "orig_nbformat": 4
 },
 "nbformat": 4,
 "nbformat_minor": 2
}
